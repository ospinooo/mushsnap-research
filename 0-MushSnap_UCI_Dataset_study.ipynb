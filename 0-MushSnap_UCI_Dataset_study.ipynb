{
  "nbformat": 4,
  "nbformat_minor": 0,
  "metadata": {
    "colab": {
      "name": "MushSnap_UCI_Dataset_study.ipynb",
      "provenance": [],
      "collapsed_sections": [],
      "toc_visible": true,
      "authorship_tag": "ABX9TyNICw4vJSJxMIzyTgjvQMBb",
      "include_colab_link": true
    },
    "kernelspec": {
      "name": "python3",
      "display_name": "Python 3"
    },
    "accelerator": "GPU"
  },
  "cells": [
    {
      "cell_type": "markdown",
      "metadata": {
        "id": "view-in-github",
        "colab_type": "text"
      },
      "source": [
        "<a href=\"https://colab.research.google.com/github/ospinooo/mushsnap-research/blob/master/MushSnap_UCI_Dataset_study.ipynb\" target=\"_parent\"><img src=\"https://colab.research.google.com/assets/colab-badge.svg\" alt=\"Open In Colab\"/></a>"
      ]
    },
    {
      "cell_type": "markdown",
      "metadata": {
        "id": "RYbvFKBTnkxI",
        "colab_type": "text"
      },
      "source": [
        "# MushSnap UCI-ML Dataset\n",
        "\n",
        "On this notebook we will develop a Machine learning algorithm with the use of a public dataset on the features of Mushrooms. This dataset belongs to the UC Irvine Machine Learning Repository. If you want to learn more about this dataset here is the link:\n",
        "\n",
        "- https://archive.ics.uci.edu/ml/datasets/Mushroom"
      ]
    },
    {
      "cell_type": "code",
      "metadata": {
        "id": "zIePqEBzh39x",
        "colab_type": "code",
        "outputId": "cedb484d-4524-4765-da59-3335004d6398",
        "colab": {
          "base_uri": "https://localhost:8080/",
          "height": 322
        }
      },
      "source": [
        "# Which GPU?\n",
        "!nvidia-smi"
      ],
      "execution_count": 0,
      "outputs": [
        {
          "output_type": "stream",
          "text": [
            "Wed Jun  3 10:16:44 2020       \n",
            "+-----------------------------------------------------------------------------+\n",
            "| NVIDIA-SMI 440.82       Driver Version: 418.67       CUDA Version: 10.1     |\n",
            "|-------------------------------+----------------------+----------------------+\n",
            "| GPU  Name        Persistence-M| Bus-Id        Disp.A | Volatile Uncorr. ECC |\n",
            "| Fan  Temp  Perf  Pwr:Usage/Cap|         Memory-Usage | GPU-Util  Compute M. |\n",
            "|===============================+======================+======================|\n",
            "|   0  Tesla K80           Off  | 00000000:00:04.0 Off |                    0 |\n",
            "| N/A   35C    P8    26W / 149W |      0MiB / 11441MiB |      0%      Default |\n",
            "+-------------------------------+----------------------+----------------------+\n",
            "                                                                               \n",
            "+-----------------------------------------------------------------------------+\n",
            "| Processes:                                                       GPU Memory |\n",
            "|  GPU       PID   Type   Process name                             Usage      |\n",
            "|=============================================================================|\n",
            "|  No running processes found                                                 |\n",
            "+-----------------------------------------------------------------------------+\n"
          ],
          "name": "stdout"
        }
      ]
    },
    {
      "cell_type": "code",
      "metadata": {
        "id": "OC49mXu0iKQj",
        "colab_type": "code",
        "outputId": "3cddcf62-92ac-4909-8be3-f24d66904e1a",
        "colab": {
          "base_uri": "https://localhost:8080/",
          "height": 180
        }
      },
      "source": [
        "!pip install -q tensorflow-gpu==2.1.0"
      ],
      "execution_count": 0,
      "outputs": [
        {
          "output_type": "stream",
          "text": [
            "\u001b[K     |████████████████████████████████| 421.8MB 20kB/s \n",
            "\u001b[K     |████████████████████████████████| 3.9MB 36.4MB/s \n",
            "\u001b[K     |████████████████████████████████| 450kB 41.1MB/s \n",
            "\u001b[?25h  Building wheel for gast (setup.py) ... \u001b[?25l\u001b[?25hdone\n",
            "\u001b[31mERROR: tensorflow 2.2.0 has requirement gast==0.3.3, but you'll have gast 0.2.2 which is incompatible.\u001b[0m\n",
            "\u001b[31mERROR: tensorflow 2.2.0 has requirement tensorboard<2.3.0,>=2.2.0, but you'll have tensorboard 2.1.1 which is incompatible.\u001b[0m\n",
            "\u001b[31mERROR: tensorflow 2.2.0 has requirement tensorflow-estimator<2.3.0,>=2.2.0, but you'll have tensorflow-estimator 2.1.0 which is incompatible.\u001b[0m\n",
            "\u001b[31mERROR: tensorflow-probability 0.10.0 has requirement gast>=0.3.2, but you'll have gast 0.2.2 which is incompatible.\u001b[0m\n"
          ],
          "name": "stdout"
        }
      ]
    },
    {
      "cell_type": "code",
      "metadata": {
        "id": "lMldWjXAiQqp",
        "colab_type": "code",
        "outputId": "efda188c-a338-4d03-ba6e-aefd8f302f13",
        "colab": {
          "base_uri": "https://localhost:8080/",
          "height": 35
        }
      },
      "source": [
        "# TensorFlow version\n",
        "import tensorflow as tf\n",
        "print(tf.__version__)"
      ],
      "execution_count": 0,
      "outputs": [
        {
          "output_type": "stream",
          "text": [
            "2.1.0\n"
          ],
          "name": "stdout"
        }
      ]
    },
    {
      "cell_type": "code",
      "metadata": {
        "id": "t9APGmIO8du1",
        "colab_type": "code",
        "outputId": "3f848919-dd7a-4c1a-9f29-43d1189cdfa0",
        "colab": {
          "base_uri": "https://localhost:8080/",
          "height": 127
        }
      },
      "source": [
        "from google.colab import drive\n",
        "drive.mount(\"/content/drive\")"
      ],
      "execution_count": 0,
      "outputs": [
        {
          "output_type": "stream",
          "text": [
            "Go to this URL in a browser: https://accounts.google.com/o/oauth2/auth?client_id=947318989803-6bn6qk8qdgf4n4g3pfee6491hc0brc4i.apps.googleusercontent.com&redirect_uri=urn%3aietf%3awg%3aoauth%3a2.0%3aoob&response_type=code&scope=email%20https%3a%2f%2fwww.googleapis.com%2fauth%2fdocs.test%20https%3a%2f%2fwww.googleapis.com%2fauth%2fdrive%20https%3a%2f%2fwww.googleapis.com%2fauth%2fdrive.photos.readonly%20https%3a%2f%2fwww.googleapis.com%2fauth%2fpeopleapi.readonly\n",
            "\n",
            "Enter your authorization code:\n",
            "··········\n",
            "Mounted at /content/drive\n"
          ],
          "name": "stdout"
        }
      ]
    },
    {
      "cell_type": "markdown",
      "metadata": {
        "id": "zRPnWq2eUwnI",
        "colab_type": "text"
      },
      "source": [
        "## Kaggle Dataset \n",
        "\n",
        "The dataset is also published in kaggle. We will install the kaggle library and download it directly from there.\n",
        "\n",
        "\n",
        "> WE NEED TO COPY OUR `kaggle.json` FILE TO BE ABLE TO DOWNLOAD THE DATA."
      ]
    },
    {
      "cell_type": "code",
      "metadata": {
        "id": "gDSxDL5Vlk9Z",
        "colab_type": "code",
        "outputId": "dc299c5a-bc66-47b3-f5b8-e5adf547c465",
        "colab": {
          "base_uri": "https://localhost:8080/",
          "height": 35
        }
      },
      "source": [
        "# Install and activate kaggle\n",
        "!pip install -q --upgrade kaggle\n",
        "!mkdir -p ~/.kaggle\n",
        "!cp drive/'My Drive'/'final project'/kaggle.json ~/.kaggle/\n",
        "!ls ~/.kaggle\n",
        "!chmod 600 /root/.kaggle/kaggle.json"
      ],
      "execution_count": 0,
      "outputs": [
        {
          "output_type": "stream",
          "text": [
            "kaggle.json\n"
          ],
          "name": "stdout"
        }
      ]
    },
    {
      "cell_type": "code",
      "metadata": {
        "id": "BZgoUhsamNfW",
        "colab_type": "code",
        "outputId": "ccfaf69b-3343-45f2-afa4-2962858b1caa",
        "colab": {
          "base_uri": "https://localhost:8080/",
          "height": 71
        }
      },
      "source": [
        "# Download the kaggle dataset\n",
        "!kaggle datasets download -d uciml/mushroom-classification"
      ],
      "execution_count": 0,
      "outputs": [
        {
          "output_type": "stream",
          "text": [
            "Downloading mushroom-classification.zip to /content\n",
            "\r  0% 0.00/34.2k [00:00<?, ?B/s]\n",
            "\r100% 34.2k/34.2k [00:00<00:00, 13.4MB/s]\n"
          ],
          "name": "stdout"
        }
      ]
    },
    {
      "cell_type": "code",
      "metadata": {
        "id": "HocUX1FLmO2v",
        "colab_type": "code",
        "outputId": "8d1af82b-8e46-4ab6-ff23-3e405c1658c0",
        "colab": {
          "base_uri": "https://localhost:8080/",
          "height": 35
        }
      },
      "source": [
        "# Unzip dataset\n",
        "!unzip -q mushroom-classification.zip\n",
        "!ls"
      ],
      "execution_count": 0,
      "outputs": [
        {
          "output_type": "stream",
          "text": [
            "drive  mushroom-classification.zip  mushrooms.csv  sample_data\n"
          ],
          "name": "stdout"
        }
      ]
    },
    {
      "cell_type": "markdown",
      "metadata": {
        "id": "4nr8p1zOV4zj",
        "colab_type": "text"
      },
      "source": [
        "## Features Dataset\n",
        "\n",
        "In this section we will go through the different features available in the dataset."
      ]
    },
    {
      "cell_type": "code",
      "metadata": {
        "id": "R7CKbxWhnZon",
        "colab_type": "code",
        "outputId": "43f18bb0-0bf6-4b45-9b89-19c9dc872143",
        "colab": {
          "base_uri": "https://localhost:8080/",
          "height": 73
        }
      },
      "source": [
        "# Import libraries\n",
        "import pandas as pd\n",
        "import numpy as np\n",
        "import seaborn as sns\n",
        "from matplotlib import pyplot as plt"
      ],
      "execution_count": 0,
      "outputs": [
        {
          "output_type": "stream",
          "text": [
            "/usr/local/lib/python3.6/dist-packages/statsmodels/tools/_testing.py:19: FutureWarning: pandas.util.testing is deprecated. Use the functions in the public API at pandas.testing instead.\n",
            "  import pandas.util.testing as tm\n"
          ],
          "name": "stderr"
        }
      ]
    },
    {
      "cell_type": "code",
      "metadata": {
        "id": "1KHn_JDAWmSo",
        "colab_type": "code",
        "colab": {}
      },
      "source": [
        "DATASET_FILENAME = \"mushrooms.csv\""
      ],
      "execution_count": 0,
      "outputs": []
    },
    {
      "cell_type": "code",
      "metadata": {
        "id": "IDJSG4RVpOcN",
        "colab_type": "code",
        "outputId": "88dd13c3-29ac-4385-d4e3-4af874e44131",
        "colab": {
          "base_uri": "https://localhost:8080/",
          "height": 278
        }
      },
      "source": [
        "data = pd.read_csv(DATASET_FILENAME)\n",
        "data.head()"
      ],
      "execution_count": 0,
      "outputs": [
        {
          "output_type": "execute_result",
          "data": {
            "text/html": [
              "<div>\n",
              "<style scoped>\n",
              "    .dataframe tbody tr th:only-of-type {\n",
              "        vertical-align: middle;\n",
              "    }\n",
              "\n",
              "    .dataframe tbody tr th {\n",
              "        vertical-align: top;\n",
              "    }\n",
              "\n",
              "    .dataframe thead th {\n",
              "        text-align: right;\n",
              "    }\n",
              "</style>\n",
              "<table border=\"1\" class=\"dataframe\">\n",
              "  <thead>\n",
              "    <tr style=\"text-align: right;\">\n",
              "      <th></th>\n",
              "      <th>class</th>\n",
              "      <th>cap-shape</th>\n",
              "      <th>cap-surface</th>\n",
              "      <th>cap-color</th>\n",
              "      <th>bruises</th>\n",
              "      <th>odor</th>\n",
              "      <th>gill-attachment</th>\n",
              "      <th>gill-spacing</th>\n",
              "      <th>gill-size</th>\n",
              "      <th>gill-color</th>\n",
              "      <th>stalk-shape</th>\n",
              "      <th>stalk-root</th>\n",
              "      <th>stalk-surface-above-ring</th>\n",
              "      <th>stalk-surface-below-ring</th>\n",
              "      <th>stalk-color-above-ring</th>\n",
              "      <th>stalk-color-below-ring</th>\n",
              "      <th>veil-type</th>\n",
              "      <th>veil-color</th>\n",
              "      <th>ring-number</th>\n",
              "      <th>ring-type</th>\n",
              "      <th>spore-print-color</th>\n",
              "      <th>population</th>\n",
              "      <th>habitat</th>\n",
              "    </tr>\n",
              "  </thead>\n",
              "  <tbody>\n",
              "    <tr>\n",
              "      <th>0</th>\n",
              "      <td>p</td>\n",
              "      <td>x</td>\n",
              "      <td>s</td>\n",
              "      <td>n</td>\n",
              "      <td>t</td>\n",
              "      <td>p</td>\n",
              "      <td>f</td>\n",
              "      <td>c</td>\n",
              "      <td>n</td>\n",
              "      <td>k</td>\n",
              "      <td>e</td>\n",
              "      <td>e</td>\n",
              "      <td>s</td>\n",
              "      <td>s</td>\n",
              "      <td>w</td>\n",
              "      <td>w</td>\n",
              "      <td>p</td>\n",
              "      <td>w</td>\n",
              "      <td>o</td>\n",
              "      <td>p</td>\n",
              "      <td>k</td>\n",
              "      <td>s</td>\n",
              "      <td>u</td>\n",
              "    </tr>\n",
              "    <tr>\n",
              "      <th>1</th>\n",
              "      <td>e</td>\n",
              "      <td>x</td>\n",
              "      <td>s</td>\n",
              "      <td>y</td>\n",
              "      <td>t</td>\n",
              "      <td>a</td>\n",
              "      <td>f</td>\n",
              "      <td>c</td>\n",
              "      <td>b</td>\n",
              "      <td>k</td>\n",
              "      <td>e</td>\n",
              "      <td>c</td>\n",
              "      <td>s</td>\n",
              "      <td>s</td>\n",
              "      <td>w</td>\n",
              "      <td>w</td>\n",
              "      <td>p</td>\n",
              "      <td>w</td>\n",
              "      <td>o</td>\n",
              "      <td>p</td>\n",
              "      <td>n</td>\n",
              "      <td>n</td>\n",
              "      <td>g</td>\n",
              "    </tr>\n",
              "    <tr>\n",
              "      <th>2</th>\n",
              "      <td>e</td>\n",
              "      <td>b</td>\n",
              "      <td>s</td>\n",
              "      <td>w</td>\n",
              "      <td>t</td>\n",
              "      <td>l</td>\n",
              "      <td>f</td>\n",
              "      <td>c</td>\n",
              "      <td>b</td>\n",
              "      <td>n</td>\n",
              "      <td>e</td>\n",
              "      <td>c</td>\n",
              "      <td>s</td>\n",
              "      <td>s</td>\n",
              "      <td>w</td>\n",
              "      <td>w</td>\n",
              "      <td>p</td>\n",
              "      <td>w</td>\n",
              "      <td>o</td>\n",
              "      <td>p</td>\n",
              "      <td>n</td>\n",
              "      <td>n</td>\n",
              "      <td>m</td>\n",
              "    </tr>\n",
              "    <tr>\n",
              "      <th>3</th>\n",
              "      <td>p</td>\n",
              "      <td>x</td>\n",
              "      <td>y</td>\n",
              "      <td>w</td>\n",
              "      <td>t</td>\n",
              "      <td>p</td>\n",
              "      <td>f</td>\n",
              "      <td>c</td>\n",
              "      <td>n</td>\n",
              "      <td>n</td>\n",
              "      <td>e</td>\n",
              "      <td>e</td>\n",
              "      <td>s</td>\n",
              "      <td>s</td>\n",
              "      <td>w</td>\n",
              "      <td>w</td>\n",
              "      <td>p</td>\n",
              "      <td>w</td>\n",
              "      <td>o</td>\n",
              "      <td>p</td>\n",
              "      <td>k</td>\n",
              "      <td>s</td>\n",
              "      <td>u</td>\n",
              "    </tr>\n",
              "    <tr>\n",
              "      <th>4</th>\n",
              "      <td>e</td>\n",
              "      <td>x</td>\n",
              "      <td>s</td>\n",
              "      <td>g</td>\n",
              "      <td>f</td>\n",
              "      <td>n</td>\n",
              "      <td>f</td>\n",
              "      <td>w</td>\n",
              "      <td>b</td>\n",
              "      <td>k</td>\n",
              "      <td>t</td>\n",
              "      <td>e</td>\n",
              "      <td>s</td>\n",
              "      <td>s</td>\n",
              "      <td>w</td>\n",
              "      <td>w</td>\n",
              "      <td>p</td>\n",
              "      <td>w</td>\n",
              "      <td>o</td>\n",
              "      <td>e</td>\n",
              "      <td>n</td>\n",
              "      <td>a</td>\n",
              "      <td>g</td>\n",
              "    </tr>\n",
              "  </tbody>\n",
              "</table>\n",
              "</div>"
            ],
            "text/plain": [
              "  class cap-shape cap-surface  ... spore-print-color population habitat\n",
              "0     p         x           s  ...                 k          s       u\n",
              "1     e         x           s  ...                 n          n       g\n",
              "2     e         b           s  ...                 n          n       m\n",
              "3     p         x           y  ...                 k          s       u\n",
              "4     e         x           s  ...                 n          a       g\n",
              "\n",
              "[5 rows x 23 columns]"
            ]
          },
          "metadata": {
            "tags": []
          },
          "execution_count": 11
        }
      ]
    },
    {
      "cell_type": "markdown",
      "metadata": {
        "id": "H7TMetg3Wtzq",
        "colab_type": "text"
      },
      "source": [
        "As we can see the different features have its own characters to refer to each one of the possibilities each feature has. Here is the cheatsheet of them:\n",
        "\n",
        "Attribute Information:\n",
        "\n",
        "1. **cap-shape**: bell=b,conical=c,convex=x,flat=f, knobbed=k,sunken=s\n",
        "2. **cap-surface**: fibrous=f,grooves=g,scaly=y,smooth=s\n",
        "3. **cap-color**: brown=n,buff=b,cinnamon=c,gray=g,green=r, pink=p,purple=u,red=e,white=w,yellow=y\n",
        "4. **bruises?**: bruises=t,no=f\n",
        "5. **odor**: almond=a,anise=l,creosote=c,fishy=y,foul=f, musty=m,none=n,pungent=p,spicy=s\n",
        "6. **gill-attachment**: attached=a,descending=d,free=f,notched=n\n",
        "7. **gill-spacing**: close=c,crowded=w,distant=d\n",
        "8. **gill-size**: broad=b,narrow=n\n",
        "9. **gill-color**: black=k,brown=n,buff=b,chocolate=h,gray=g, green=r,orange=o,pink=p,purple=u,red=e, white=w,yellow=y\n",
        "10. **stalk-shape**: enlarging=e,tapering=t\n",
        "11. **stalk-root**: bulbous=b,club=c,cup=u,equal=e, rhizomorphs=z,rooted=r,missing=?\n",
        "12. **stalk-surface-above-ring**: fibrous=f,scaly=y,silky=k,smooth=s\n",
        "13. **stalk-surface-below-ring**: fibrous=f,scaly=y,silky=k,smooth=s\n",
        "14. **stalk-color-above-ring**: brown=n,buff=b,cinnamon=c,gray=g,orange=o, pink=p,red=e,white=w,yellow=y\n",
        "15. **stalk-color-below-ring**: brown=n,buff=b,cinnamon=c,gray=g,orange=o, pink=p,red=e,white=w,yellow=y\n",
        "16. **veil-type**: partial=p,universal=u\n",
        "17. **veil-color**: brown=n,orange=o,white=w,yellow=y\n",
        "18. **ring-number**: none=n,one=o,two=t\n",
        "19. **ring-type**: cobwebby=c,evanescent=e,flaring=f,large=l, none=n,pendant=p,sheathing=s,zone=z\n",
        "20. **spore-print-color**: black=k,brown=n,buff=b,chocolate=h,green=r, orange=o,purple=u,white=w,yellow=y\n",
        "21. **population**: abundant=a,clustered=c,numerous=n, scattered=s,several=v,solitary=y\n",
        "22. **habitat**: grasses=g,leaves=l,meadows=m,paths=p, urban=u,waste=w,woods=d"
      ]
    },
    {
      "cell_type": "code",
      "metadata": {
        "id": "3ZHKXmbOpU4y",
        "colab_type": "code",
        "outputId": "265b9bd4-a33e-4d7f-a4e1-1e3a7aad0448",
        "colab": {
          "base_uri": "https://localhost:8080/",
          "height": 447
        }
      },
      "source": [
        "# Null Check\n",
        "data.isnull().sum()"
      ],
      "execution_count": 0,
      "outputs": [
        {
          "output_type": "execute_result",
          "data": {
            "text/plain": [
              "class                       0\n",
              "cap-shape                   0\n",
              "cap-surface                 0\n",
              "cap-color                   0\n",
              "bruises                     0\n",
              "odor                        0\n",
              "gill-attachment             0\n",
              "gill-spacing                0\n",
              "gill-size                   0\n",
              "gill-color                  0\n",
              "stalk-shape                 0\n",
              "stalk-root                  0\n",
              "stalk-surface-above-ring    0\n",
              "stalk-surface-below-ring    0\n",
              "stalk-color-above-ring      0\n",
              "stalk-color-below-ring      0\n",
              "veil-type                   0\n",
              "veil-color                  0\n",
              "ring-number                 0\n",
              "ring-type                   0\n",
              "spore-print-color           0\n",
              "population                  0\n",
              "habitat                     0\n",
              "dtype: int64"
            ]
          },
          "metadata": {
            "tags": []
          },
          "execution_count": 12
        }
      ]
    },
    {
      "cell_type": "markdown",
      "metadata": {
        "id": "_9NtC7gLXYCf",
        "colab_type": "text"
      },
      "source": [
        "The dataset doesn't have null values."
      ]
    },
    {
      "cell_type": "code",
      "metadata": {
        "id": "NtIVrUi8tmy0",
        "colab_type": "code",
        "outputId": "6c77f144-2323-47d7-a772-8826065f8520",
        "colab": {
          "base_uri": "https://localhost:8080/",
          "height": 35
        }
      },
      "source": [
        "# Target class\n",
        "data['class'].unique()"
      ],
      "execution_count": 0,
      "outputs": [
        {
          "output_type": "execute_result",
          "data": {
            "text/plain": [
              "array(['p', 'e'], dtype=object)"
            ]
          },
          "metadata": {
            "tags": []
          },
          "execution_count": 13
        }
      ]
    },
    {
      "cell_type": "code",
      "metadata": {
        "id": "uY6rex0AttjK",
        "colab_type": "code",
        "outputId": "cbc764fd-1615-4a99-f2fa-4ba724138af0",
        "colab": {
          "base_uri": "https://localhost:8080/",
          "height": 53
        }
      },
      "source": [
        "# Total instances\n",
        "print(f\"Total number of examples: {data.shape[0]}\")\n",
        "print(f\"Total number of atributes: {data.shape[1]}\")"
      ],
      "execution_count": 0,
      "outputs": [
        {
          "output_type": "stream",
          "text": [
            "Total number of examples: 8124\n",
            "Total number of atributes: 23\n"
          ],
          "name": "stdout"
        }
      ]
    },
    {
      "cell_type": "markdown",
      "metadata": {
        "id": "cmOGyriKt0N_",
        "colab_type": "text"
      },
      "source": [
        "## Transformation of Categorical features.\n",
        "\n",
        "Thus we have 22 features(1st one is label) and 8124 instances.\n",
        "Now let us check which features constitutes maximum information.\n",
        "\n",
        "We will apply a Label encoder to every column in which every category will be mapped to a single number."
      ]
    },
    {
      "cell_type": "code",
      "metadata": {
        "id": "q2VocMjHtvSf",
        "colab_type": "code",
        "outputId": "7cbf5d3b-5eee-41f0-8916-b05a437a52ab",
        "colab": {
          "base_uri": "https://localhost:8080/",
          "height": 278
        }
      },
      "source": [
        "from sklearn.preprocessing import LabelEncoder\n",
        "\n",
        "labelencoder = LabelEncoder()\n",
        "for col in data.columns:\n",
        "    data[col] = labelencoder.fit_transform(data[col])\n",
        " \n",
        "data.head()"
      ],
      "execution_count": 0,
      "outputs": [
        {
          "output_type": "execute_result",
          "data": {
            "text/html": [
              "<div>\n",
              "<style scoped>\n",
              "    .dataframe tbody tr th:only-of-type {\n",
              "        vertical-align: middle;\n",
              "    }\n",
              "\n",
              "    .dataframe tbody tr th {\n",
              "        vertical-align: top;\n",
              "    }\n",
              "\n",
              "    .dataframe thead th {\n",
              "        text-align: right;\n",
              "    }\n",
              "</style>\n",
              "<table border=\"1\" class=\"dataframe\">\n",
              "  <thead>\n",
              "    <tr style=\"text-align: right;\">\n",
              "      <th></th>\n",
              "      <th>class</th>\n",
              "      <th>cap-shape</th>\n",
              "      <th>cap-surface</th>\n",
              "      <th>cap-color</th>\n",
              "      <th>bruises</th>\n",
              "      <th>odor</th>\n",
              "      <th>gill-attachment</th>\n",
              "      <th>gill-spacing</th>\n",
              "      <th>gill-size</th>\n",
              "      <th>gill-color</th>\n",
              "      <th>stalk-shape</th>\n",
              "      <th>stalk-root</th>\n",
              "      <th>stalk-surface-above-ring</th>\n",
              "      <th>stalk-surface-below-ring</th>\n",
              "      <th>stalk-color-above-ring</th>\n",
              "      <th>stalk-color-below-ring</th>\n",
              "      <th>veil-type</th>\n",
              "      <th>veil-color</th>\n",
              "      <th>ring-number</th>\n",
              "      <th>ring-type</th>\n",
              "      <th>spore-print-color</th>\n",
              "      <th>population</th>\n",
              "      <th>habitat</th>\n",
              "    </tr>\n",
              "  </thead>\n",
              "  <tbody>\n",
              "    <tr>\n",
              "      <th>0</th>\n",
              "      <td>1</td>\n",
              "      <td>5</td>\n",
              "      <td>2</td>\n",
              "      <td>4</td>\n",
              "      <td>1</td>\n",
              "      <td>6</td>\n",
              "      <td>1</td>\n",
              "      <td>0</td>\n",
              "      <td>1</td>\n",
              "      <td>4</td>\n",
              "      <td>0</td>\n",
              "      <td>3</td>\n",
              "      <td>2</td>\n",
              "      <td>2</td>\n",
              "      <td>7</td>\n",
              "      <td>7</td>\n",
              "      <td>0</td>\n",
              "      <td>2</td>\n",
              "      <td>1</td>\n",
              "      <td>4</td>\n",
              "      <td>2</td>\n",
              "      <td>3</td>\n",
              "      <td>5</td>\n",
              "    </tr>\n",
              "    <tr>\n",
              "      <th>1</th>\n",
              "      <td>0</td>\n",
              "      <td>5</td>\n",
              "      <td>2</td>\n",
              "      <td>9</td>\n",
              "      <td>1</td>\n",
              "      <td>0</td>\n",
              "      <td>1</td>\n",
              "      <td>0</td>\n",
              "      <td>0</td>\n",
              "      <td>4</td>\n",
              "      <td>0</td>\n",
              "      <td>2</td>\n",
              "      <td>2</td>\n",
              "      <td>2</td>\n",
              "      <td>7</td>\n",
              "      <td>7</td>\n",
              "      <td>0</td>\n",
              "      <td>2</td>\n",
              "      <td>1</td>\n",
              "      <td>4</td>\n",
              "      <td>3</td>\n",
              "      <td>2</td>\n",
              "      <td>1</td>\n",
              "    </tr>\n",
              "    <tr>\n",
              "      <th>2</th>\n",
              "      <td>0</td>\n",
              "      <td>0</td>\n",
              "      <td>2</td>\n",
              "      <td>8</td>\n",
              "      <td>1</td>\n",
              "      <td>3</td>\n",
              "      <td>1</td>\n",
              "      <td>0</td>\n",
              "      <td>0</td>\n",
              "      <td>5</td>\n",
              "      <td>0</td>\n",
              "      <td>2</td>\n",
              "      <td>2</td>\n",
              "      <td>2</td>\n",
              "      <td>7</td>\n",
              "      <td>7</td>\n",
              "      <td>0</td>\n",
              "      <td>2</td>\n",
              "      <td>1</td>\n",
              "      <td>4</td>\n",
              "      <td>3</td>\n",
              "      <td>2</td>\n",
              "      <td>3</td>\n",
              "    </tr>\n",
              "    <tr>\n",
              "      <th>3</th>\n",
              "      <td>1</td>\n",
              "      <td>5</td>\n",
              "      <td>3</td>\n",
              "      <td>8</td>\n",
              "      <td>1</td>\n",
              "      <td>6</td>\n",
              "      <td>1</td>\n",
              "      <td>0</td>\n",
              "      <td>1</td>\n",
              "      <td>5</td>\n",
              "      <td>0</td>\n",
              "      <td>3</td>\n",
              "      <td>2</td>\n",
              "      <td>2</td>\n",
              "      <td>7</td>\n",
              "      <td>7</td>\n",
              "      <td>0</td>\n",
              "      <td>2</td>\n",
              "      <td>1</td>\n",
              "      <td>4</td>\n",
              "      <td>2</td>\n",
              "      <td>3</td>\n",
              "      <td>5</td>\n",
              "    </tr>\n",
              "    <tr>\n",
              "      <th>4</th>\n",
              "      <td>0</td>\n",
              "      <td>5</td>\n",
              "      <td>2</td>\n",
              "      <td>3</td>\n",
              "      <td>0</td>\n",
              "      <td>5</td>\n",
              "      <td>1</td>\n",
              "      <td>1</td>\n",
              "      <td>0</td>\n",
              "      <td>4</td>\n",
              "      <td>1</td>\n",
              "      <td>3</td>\n",
              "      <td>2</td>\n",
              "      <td>2</td>\n",
              "      <td>7</td>\n",
              "      <td>7</td>\n",
              "      <td>0</td>\n",
              "      <td>2</td>\n",
              "      <td>1</td>\n",
              "      <td>0</td>\n",
              "      <td>3</td>\n",
              "      <td>0</td>\n",
              "      <td>1</td>\n",
              "    </tr>\n",
              "  </tbody>\n",
              "</table>\n",
              "</div>"
            ],
            "text/plain": [
              "   class  cap-shape  cap-surface  ...  spore-print-color  population  habitat\n",
              "0      1          5            2  ...                  2           3        5\n",
              "1      0          5            2  ...                  3           2        1\n",
              "2      0          0            2  ...                  3           2        3\n",
              "3      1          5            3  ...                  2           3        5\n",
              "4      0          5            2  ...                  3           0        1\n",
              "\n",
              "[5 rows x 23 columns]"
            ]
          },
          "metadata": {
            "tags": []
          },
          "execution_count": 17
        }
      ]
    },
    {
      "cell_type": "code",
      "metadata": {
        "id": "QxSsQmCNt8Bo",
        "colab_type": "code",
        "outputId": "7d99a25a-97ec-493d-8447-6b5ab29d64fb",
        "colab": {
          "base_uri": "https://localhost:8080/",
          "height": 89
        }
      },
      "source": [
        "# Instances per class\n",
        "print(data.groupby('class').size())"
      ],
      "execution_count": 0,
      "outputs": [
        {
          "output_type": "stream",
          "text": [
            "class\n",
            "0    4208\n",
            "1    3916\n",
            "dtype: int64\n"
          ],
          "name": "stdout"
        }
      ]
    },
    {
      "cell_type": "code",
      "metadata": {
        "id": "ydCVELbot-HR",
        "colab_type": "code",
        "colab": {}
      },
      "source": [
        "# Divide in X and y\n",
        "X = data.iloc[:, 1:]  # all rows, all the features and no labels\n",
        "y = data.iloc[:, 0]  # all rows, label only\n",
        "X.head()\n",
        "columns = X.columns"
      ],
      "execution_count": 0,
      "outputs": []
    },
    {
      "cell_type": "code",
      "metadata": {
        "id": "mlAeyLCzuJLw",
        "colab_type": "code",
        "outputId": "ce28a2c6-a467-4ab1-cfd0-add782a4d2d3",
        "colab": {
          "base_uri": "https://localhost:8080/",
          "height": 373
        }
      },
      "source": [
        "X.describe()"
      ],
      "execution_count": 0,
      "outputs": [
        {
          "output_type": "execute_result",
          "data": {
            "text/html": [
              "<div>\n",
              "<style scoped>\n",
              "    .dataframe tbody tr th:only-of-type {\n",
              "        vertical-align: middle;\n",
              "    }\n",
              "\n",
              "    .dataframe tbody tr th {\n",
              "        vertical-align: top;\n",
              "    }\n",
              "\n",
              "    .dataframe thead th {\n",
              "        text-align: right;\n",
              "    }\n",
              "</style>\n",
              "<table border=\"1\" class=\"dataframe\">\n",
              "  <thead>\n",
              "    <tr style=\"text-align: right;\">\n",
              "      <th></th>\n",
              "      <th>cap-shape</th>\n",
              "      <th>cap-surface</th>\n",
              "      <th>cap-color</th>\n",
              "      <th>bruises</th>\n",
              "      <th>odor</th>\n",
              "      <th>gill-attachment</th>\n",
              "      <th>gill-spacing</th>\n",
              "      <th>gill-size</th>\n",
              "      <th>gill-color</th>\n",
              "      <th>stalk-shape</th>\n",
              "      <th>stalk-root</th>\n",
              "      <th>stalk-surface-above-ring</th>\n",
              "      <th>stalk-surface-below-ring</th>\n",
              "      <th>stalk-color-above-ring</th>\n",
              "      <th>stalk-color-below-ring</th>\n",
              "      <th>veil-type</th>\n",
              "      <th>veil-color</th>\n",
              "      <th>ring-number</th>\n",
              "      <th>ring-type</th>\n",
              "      <th>spore-print-color</th>\n",
              "      <th>population</th>\n",
              "      <th>habitat</th>\n",
              "    </tr>\n",
              "  </thead>\n",
              "  <tbody>\n",
              "    <tr>\n",
              "      <th>count</th>\n",
              "      <td>8124.000000</td>\n",
              "      <td>8124.000000</td>\n",
              "      <td>8124.000000</td>\n",
              "      <td>8124.000000</td>\n",
              "      <td>8124.000000</td>\n",
              "      <td>8124.000000</td>\n",
              "      <td>8124.000000</td>\n",
              "      <td>8124.000000</td>\n",
              "      <td>8124.000000</td>\n",
              "      <td>8124.000000</td>\n",
              "      <td>8124.000000</td>\n",
              "      <td>8124.000000</td>\n",
              "      <td>8124.000000</td>\n",
              "      <td>8124.000000</td>\n",
              "      <td>8124.000000</td>\n",
              "      <td>8124.0</td>\n",
              "      <td>8124.000000</td>\n",
              "      <td>8124.000000</td>\n",
              "      <td>8124.000000</td>\n",
              "      <td>8124.000000</td>\n",
              "      <td>8124.000000</td>\n",
              "      <td>8124.000000</td>\n",
              "    </tr>\n",
              "    <tr>\n",
              "      <th>mean</th>\n",
              "      <td>3.348104</td>\n",
              "      <td>1.827671</td>\n",
              "      <td>4.504677</td>\n",
              "      <td>0.415559</td>\n",
              "      <td>4.144756</td>\n",
              "      <td>0.974151</td>\n",
              "      <td>0.161497</td>\n",
              "      <td>0.309207</td>\n",
              "      <td>4.810684</td>\n",
              "      <td>0.567208</td>\n",
              "      <td>1.109798</td>\n",
              "      <td>1.575086</td>\n",
              "      <td>1.603644</td>\n",
              "      <td>5.816347</td>\n",
              "      <td>5.794682</td>\n",
              "      <td>0.0</td>\n",
              "      <td>1.965534</td>\n",
              "      <td>1.069424</td>\n",
              "      <td>2.291974</td>\n",
              "      <td>3.596750</td>\n",
              "      <td>3.644018</td>\n",
              "      <td>1.508616</td>\n",
              "    </tr>\n",
              "    <tr>\n",
              "      <th>std</th>\n",
              "      <td>1.604329</td>\n",
              "      <td>1.229873</td>\n",
              "      <td>2.545821</td>\n",
              "      <td>0.492848</td>\n",
              "      <td>2.103729</td>\n",
              "      <td>0.158695</td>\n",
              "      <td>0.368011</td>\n",
              "      <td>0.462195</td>\n",
              "      <td>3.540359</td>\n",
              "      <td>0.495493</td>\n",
              "      <td>1.061106</td>\n",
              "      <td>0.621459</td>\n",
              "      <td>0.675974</td>\n",
              "      <td>1.901747</td>\n",
              "      <td>1.907291</td>\n",
              "      <td>0.0</td>\n",
              "      <td>0.242669</td>\n",
              "      <td>0.271064</td>\n",
              "      <td>1.801672</td>\n",
              "      <td>2.382663</td>\n",
              "      <td>1.252082</td>\n",
              "      <td>1.719975</td>\n",
              "    </tr>\n",
              "    <tr>\n",
              "      <th>min</th>\n",
              "      <td>0.000000</td>\n",
              "      <td>0.000000</td>\n",
              "      <td>0.000000</td>\n",
              "      <td>0.000000</td>\n",
              "      <td>0.000000</td>\n",
              "      <td>0.000000</td>\n",
              "      <td>0.000000</td>\n",
              "      <td>0.000000</td>\n",
              "      <td>0.000000</td>\n",
              "      <td>0.000000</td>\n",
              "      <td>0.000000</td>\n",
              "      <td>0.000000</td>\n",
              "      <td>0.000000</td>\n",
              "      <td>0.000000</td>\n",
              "      <td>0.000000</td>\n",
              "      <td>0.0</td>\n",
              "      <td>0.000000</td>\n",
              "      <td>0.000000</td>\n",
              "      <td>0.000000</td>\n",
              "      <td>0.000000</td>\n",
              "      <td>0.000000</td>\n",
              "      <td>0.000000</td>\n",
              "    </tr>\n",
              "    <tr>\n",
              "      <th>25%</th>\n",
              "      <td>2.000000</td>\n",
              "      <td>0.000000</td>\n",
              "      <td>3.000000</td>\n",
              "      <td>0.000000</td>\n",
              "      <td>2.000000</td>\n",
              "      <td>1.000000</td>\n",
              "      <td>0.000000</td>\n",
              "      <td>0.000000</td>\n",
              "      <td>2.000000</td>\n",
              "      <td>0.000000</td>\n",
              "      <td>0.000000</td>\n",
              "      <td>1.000000</td>\n",
              "      <td>1.000000</td>\n",
              "      <td>6.000000</td>\n",
              "      <td>6.000000</td>\n",
              "      <td>0.0</td>\n",
              "      <td>2.000000</td>\n",
              "      <td>1.000000</td>\n",
              "      <td>0.000000</td>\n",
              "      <td>2.000000</td>\n",
              "      <td>3.000000</td>\n",
              "      <td>0.000000</td>\n",
              "    </tr>\n",
              "    <tr>\n",
              "      <th>50%</th>\n",
              "      <td>3.000000</td>\n",
              "      <td>2.000000</td>\n",
              "      <td>4.000000</td>\n",
              "      <td>0.000000</td>\n",
              "      <td>5.000000</td>\n",
              "      <td>1.000000</td>\n",
              "      <td>0.000000</td>\n",
              "      <td>0.000000</td>\n",
              "      <td>5.000000</td>\n",
              "      <td>1.000000</td>\n",
              "      <td>1.000000</td>\n",
              "      <td>2.000000</td>\n",
              "      <td>2.000000</td>\n",
              "      <td>7.000000</td>\n",
              "      <td>7.000000</td>\n",
              "      <td>0.0</td>\n",
              "      <td>2.000000</td>\n",
              "      <td>1.000000</td>\n",
              "      <td>2.000000</td>\n",
              "      <td>3.000000</td>\n",
              "      <td>4.000000</td>\n",
              "      <td>1.000000</td>\n",
              "    </tr>\n",
              "    <tr>\n",
              "      <th>75%</th>\n",
              "      <td>5.000000</td>\n",
              "      <td>3.000000</td>\n",
              "      <td>8.000000</td>\n",
              "      <td>1.000000</td>\n",
              "      <td>5.000000</td>\n",
              "      <td>1.000000</td>\n",
              "      <td>0.000000</td>\n",
              "      <td>1.000000</td>\n",
              "      <td>7.000000</td>\n",
              "      <td>1.000000</td>\n",
              "      <td>1.000000</td>\n",
              "      <td>2.000000</td>\n",
              "      <td>2.000000</td>\n",
              "      <td>7.000000</td>\n",
              "      <td>7.000000</td>\n",
              "      <td>0.0</td>\n",
              "      <td>2.000000</td>\n",
              "      <td>1.000000</td>\n",
              "      <td>4.000000</td>\n",
              "      <td>7.000000</td>\n",
              "      <td>4.000000</td>\n",
              "      <td>2.000000</td>\n",
              "    </tr>\n",
              "    <tr>\n",
              "      <th>max</th>\n",
              "      <td>5.000000</td>\n",
              "      <td>3.000000</td>\n",
              "      <td>9.000000</td>\n",
              "      <td>1.000000</td>\n",
              "      <td>8.000000</td>\n",
              "      <td>1.000000</td>\n",
              "      <td>1.000000</td>\n",
              "      <td>1.000000</td>\n",
              "      <td>11.000000</td>\n",
              "      <td>1.000000</td>\n",
              "      <td>4.000000</td>\n",
              "      <td>3.000000</td>\n",
              "      <td>3.000000</td>\n",
              "      <td>8.000000</td>\n",
              "      <td>8.000000</td>\n",
              "      <td>0.0</td>\n",
              "      <td>3.000000</td>\n",
              "      <td>2.000000</td>\n",
              "      <td>4.000000</td>\n",
              "      <td>8.000000</td>\n",
              "      <td>5.000000</td>\n",
              "      <td>6.000000</td>\n",
              "    </tr>\n",
              "  </tbody>\n",
              "</table>\n",
              "</div>"
            ],
            "text/plain": [
              "         cap-shape  cap-surface  ...   population      habitat\n",
              "count  8124.000000  8124.000000  ...  8124.000000  8124.000000\n",
              "mean      3.348104     1.827671  ...     3.644018     1.508616\n",
              "std       1.604329     1.229873  ...     1.252082     1.719975\n",
              "min       0.000000     0.000000  ...     0.000000     0.000000\n",
              "25%       2.000000     0.000000  ...     3.000000     0.000000\n",
              "50%       3.000000     2.000000  ...     4.000000     1.000000\n",
              "75%       5.000000     3.000000  ...     4.000000     2.000000\n",
              "max       5.000000     3.000000  ...     5.000000     6.000000\n",
              "\n",
              "[8 rows x 22 columns]"
            ]
          },
          "metadata": {
            "tags": []
          },
          "execution_count": 20
        }
      ]
    },
    {
      "cell_type": "code",
      "metadata": {
        "id": "0mBHZRLRuKcm",
        "colab_type": "code",
        "outputId": "fc61acc9-1de5-4bcc-e571-59be9d562820",
        "colab": {
          "base_uri": "https://localhost:8080/",
          "height": 250
        }
      },
      "source": [
        "y.head(), columns\n"
      ],
      "execution_count": 0,
      "outputs": [
        {
          "output_type": "execute_result",
          "data": {
            "text/plain": [
              "(0    1\n",
              " 1    0\n",
              " 2    0\n",
              " 3    1\n",
              " 4    0\n",
              " Name: class, dtype: int64,\n",
              " Index(['cap-shape', 'cap-surface', 'cap-color', 'bruises', 'odor',\n",
              "        'gill-attachment', 'gill-spacing', 'gill-size', 'gill-color',\n",
              "        'stalk-shape', 'stalk-root', 'stalk-surface-above-ring',\n",
              "        'stalk-surface-below-ring', 'stalk-color-above-ring',\n",
              "        'stalk-color-below-ring', 'veil-type', 'veil-color', 'ring-number',\n",
              "        'ring-type', 'spore-print-color', 'population', 'habitat'],\n",
              "       dtype='object'))"
            ]
          },
          "metadata": {
            "tags": []
          },
          "execution_count": 34
        }
      ]
    },
    {
      "cell_type": "markdown",
      "metadata": {
        "id": "wmWnOAv4Yxve",
        "colab_type": "text"
      },
      "source": [
        "## Features correlation matrix\n"
      ]
    },
    {
      "cell_type": "code",
      "metadata": {
        "id": "Vp-JOIwEuOeD",
        "colab_type": "code",
        "outputId": "976c7d50-2cc5-4da8-a6bb-3898e6d946d4",
        "colab": {
          "base_uri": "https://localhost:8080/",
          "height": 654
        }
      },
      "source": [
        "sns.set(style=\"white\")\n",
        "corr = data.corr()\n",
        "\n",
        "# Generate a mask for the upper triangle\n",
        "mask = np.triu(np.ones_like(corr, dtype=np.bool))\n",
        "\n",
        "# Set up the matplotlib figure\n",
        "f, ax = plt.subplots(figsize=(11, 9))\n",
        "\n",
        "# Generate a custom diverging colormap\n",
        "cmap = sns.diverging_palette(220, 10, as_cmap=True)\n",
        "\n",
        "# Draw the heatmap with the mask and correct aspect ratio\n",
        "sns.heatmap(corr, mask=mask, cmap=cmap, vmax=.3, center=0,\n",
        "            square=True, linewidths=.5, cbar_kws={\"shrink\": .5})"
      ],
      "execution_count": 0,
      "outputs": [
        {
          "output_type": "execute_result",
          "data": {
            "text/plain": [
              "<matplotlib.axes._subplots.AxesSubplot at 0x7ff815ed9a20>"
            ]
          },
          "metadata": {
            "tags": []
          },
          "execution_count": 22
        },
        {
          "output_type": "display_data",
          "data": {
            "image/png": "[encoded data removed]",
            "text/plain": [
              "<Figure size 792x648 with 2 Axes>"
            ]
          },
          "metadata": {
            "tags": []
          }
        }
      ]
    },
    {
      "cell_type": "markdown",
      "metadata": {
        "id": "qHGY28WEZgr2",
        "colab_type": "text"
      },
      "source": [
        "## Features normalization "
      ]
    },
    {
      "cell_type": "code",
      "metadata": {
        "id": "Ccnmn0m7uQOH",
        "colab_type": "code",
        "outputId": "f77d4a57-e262-463b-fbd4-b6959af9d9e2",
        "colab": {
          "base_uri": "https://localhost:8080/",
          "height": 250
        }
      },
      "source": [
        "# Scale the data to be between -1 and 1\n",
        "from sklearn.preprocessing import StandardScaler\n",
        "\n",
        "scaler = StandardScaler()\n",
        "X = scaler.fit_transform(X)\n",
        "X"
      ],
      "execution_count": 0,
      "outputs": [
        {
          "output_type": "execute_result",
          "data": {
            "text/plain": [
              "array([[ 1.02971224,  0.14012794, -0.19824983, ..., -0.67019486,\n",
              "        -0.5143892 ,  2.03002809],\n",
              "       [ 1.02971224,  0.14012794,  1.76587407, ..., -0.2504706 ,\n",
              "        -1.31310821, -0.29572966],\n",
              "       [-2.08704716,  0.14012794,  1.37304929, ..., -0.2504706 ,\n",
              "        -1.31310821,  0.86714922],\n",
              "       ...,\n",
              "       [-0.8403434 ,  0.14012794, -0.19824983, ..., -1.50964337,\n",
              "        -2.11182722,  0.28570978],\n",
              "       [-0.21699152,  0.95327039, -0.19824983, ...,  1.42842641,\n",
              "         0.28432981,  0.28570978],\n",
              "       [ 1.02971224,  0.14012794, -0.19824983, ...,  0.16925365,\n",
              "        -2.11182722,  0.28570978]])"
            ]
          },
          "metadata": {
            "tags": []
          },
          "execution_count": 24
        }
      ]
    },
    {
      "cell_type": "markdown",
      "metadata": {
        "id": "nXE2WO_3aJDg",
        "colab_type": "text"
      },
      "source": [
        "### Principal Components Analysis\n",
        "\n",
        "We are going to transform our features with the PCA algorithm. We will get in the end the hightest variance with the less number of features. Instead of using the whole 23 features for the training process we will use just a few that will hold almost all the required variance to predict succesfully."
      ]
    },
    {
      "cell_type": "code",
      "metadata": {
        "id": "SFViJ7AvvdEs",
        "colab_type": "code",
        "outputId": "680c1c16-3031-4736-cca2-31a3ff89fa96",
        "colab": {
          "base_uri": "https://localhost:8080/",
          "height": 226
        }
      },
      "source": [
        "# Transformation into PCA features.\n",
        "# Highest variance with the less number of features.\n",
        "from sklearn.decomposition import PCA\n",
        "pca = PCA()\n",
        "pd.DataFrame(pca.fit_transform(X)).head()\n"
      ],
      "execution_count": 0,
      "outputs": [
        {
          "output_type": "execute_result",
          "data": {
            "text/html": [
              "<div>\n",
              "<style scoped>\n",
              "    .dataframe tbody tr th:only-of-type {\n",
              "        vertical-align: middle;\n",
              "    }\n",
              "\n",
              "    .dataframe tbody tr th {\n",
              "        vertical-align: top;\n",
              "    }\n",
              "\n",
              "    .dataframe thead th {\n",
              "        text-align: right;\n",
              "    }\n",
              "</style>\n",
              "<table border=\"1\" class=\"dataframe\">\n",
              "  <thead>\n",
              "    <tr style=\"text-align: right;\">\n",
              "      <th></th>\n",
              "      <th>0</th>\n",
              "      <th>1</th>\n",
              "      <th>2</th>\n",
              "      <th>3</th>\n",
              "      <th>4</th>\n",
              "      <th>5</th>\n",
              "      <th>6</th>\n",
              "      <th>7</th>\n",
              "      <th>8</th>\n",
              "      <th>9</th>\n",
              "      <th>10</th>\n",
              "      <th>11</th>\n",
              "      <th>12</th>\n",
              "      <th>13</th>\n",
              "      <th>14</th>\n",
              "      <th>15</th>\n",
              "      <th>16</th>\n",
              "      <th>17</th>\n",
              "      <th>18</th>\n",
              "      <th>19</th>\n",
              "      <th>20</th>\n",
              "      <th>21</th>\n",
              "    </tr>\n",
              "  </thead>\n",
              "  <tbody>\n",
              "    <tr>\n",
              "      <th>0</th>\n",
              "      <td>-0.574322</td>\n",
              "      <td>-0.975781</td>\n",
              "      <td>-1.221762</td>\n",
              "      <td>0.185505</td>\n",
              "      <td>-1.451920</td>\n",
              "      <td>-1.538255</td>\n",
              "      <td>1.206300</td>\n",
              "      <td>1.545333</td>\n",
              "      <td>1.604984</td>\n",
              "      <td>0.405963</td>\n",
              "      <td>-0.690598</td>\n",
              "      <td>0.821627</td>\n",
              "      <td>0.080134</td>\n",
              "      <td>0.611855</td>\n",
              "      <td>-0.519966</td>\n",
              "      <td>-0.782544</td>\n",
              "      <td>1.120259</td>\n",
              "      <td>-0.004570</td>\n",
              "      <td>-0.359782</td>\n",
              "      <td>-0.208581</td>\n",
              "      <td>0.008140</td>\n",
              "      <td>-1.281683e-17</td>\n",
              "    </tr>\n",
              "    <tr>\n",
              "      <th>1</th>\n",
              "      <td>-2.282102</td>\n",
              "      <td>0.279066</td>\n",
              "      <td>-1.200497</td>\n",
              "      <td>0.272056</td>\n",
              "      <td>-1.501531</td>\n",
              "      <td>-1.486986</td>\n",
              "      <td>1.082778</td>\n",
              "      <td>-0.340684</td>\n",
              "      <td>-0.661795</td>\n",
              "      <td>-0.158524</td>\n",
              "      <td>0.194346</td>\n",
              "      <td>-1.387830</td>\n",
              "      <td>-0.185504</td>\n",
              "      <td>-0.916553</td>\n",
              "      <td>-0.113078</td>\n",
              "      <td>-0.730934</td>\n",
              "      <td>-0.018174</td>\n",
              "      <td>0.366562</td>\n",
              "      <td>0.278532</td>\n",
              "      <td>0.152239</td>\n",
              "      <td>-0.196446</td>\n",
              "      <td>3.505657e-17</td>\n",
              "    </tr>\n",
              "    <tr>\n",
              "      <th>2</th>\n",
              "      <td>-1.858036</td>\n",
              "      <td>-0.270972</td>\n",
              "      <td>-1.372371</td>\n",
              "      <td>1.055963</td>\n",
              "      <td>-1.810316</td>\n",
              "      <td>-0.874188</td>\n",
              "      <td>-1.768193</td>\n",
              "      <td>-0.286344</td>\n",
              "      <td>0.674741</td>\n",
              "      <td>0.339317</td>\n",
              "      <td>-0.293566</td>\n",
              "      <td>-0.511113</td>\n",
              "      <td>-0.033061</td>\n",
              "      <td>-0.519470</td>\n",
              "      <td>0.016525</td>\n",
              "      <td>-0.656167</td>\n",
              "      <td>0.107914</td>\n",
              "      <td>-0.181087</td>\n",
              "      <td>0.364882</td>\n",
              "      <td>0.257582</td>\n",
              "      <td>-0.362577</td>\n",
              "      <td>1.555151e-17</td>\n",
              "    </tr>\n",
              "    <tr>\n",
              "      <th>3</th>\n",
              "      <td>-0.884780</td>\n",
              "      <td>-0.756468</td>\n",
              "      <td>-1.342068</td>\n",
              "      <td>0.370162</td>\n",
              "      <td>-2.111239</td>\n",
              "      <td>-2.110207</td>\n",
              "      <td>1.089952</td>\n",
              "      <td>1.243782</td>\n",
              "      <td>0.709039</td>\n",
              "      <td>0.478215</td>\n",
              "      <td>-1.285118</td>\n",
              "      <td>1.213600</td>\n",
              "      <td>0.434106</td>\n",
              "      <td>0.025716</td>\n",
              "      <td>-0.059661</td>\n",
              "      <td>-0.454026</td>\n",
              "      <td>0.994198</td>\n",
              "      <td>-0.082612</td>\n",
              "      <td>-0.393285</td>\n",
              "      <td>-0.169119</td>\n",
              "      <td>0.157344</td>\n",
              "      <td>1.440469e-17</td>\n",
              "    </tr>\n",
              "    <tr>\n",
              "      <th>4</th>\n",
              "      <td>0.689613</td>\n",
              "      <td>1.239262</td>\n",
              "      <td>-3.113237</td>\n",
              "      <td>0.814721</td>\n",
              "      <td>1.541685</td>\n",
              "      <td>-0.555917</td>\n",
              "      <td>0.585614</td>\n",
              "      <td>1.598763</td>\n",
              "      <td>-0.851453</td>\n",
              "      <td>1.436707</td>\n",
              "      <td>-0.015359</td>\n",
              "      <td>-1.260035</td>\n",
              "      <td>-0.682285</td>\n",
              "      <td>0.517256</td>\n",
              "      <td>-0.514080</td>\n",
              "      <td>0.242658</td>\n",
              "      <td>-0.311933</td>\n",
              "      <td>-0.587410</td>\n",
              "      <td>-0.159598</td>\n",
              "      <td>0.167047</td>\n",
              "      <td>0.061573</td>\n",
              "      <td>-5.241867e-18</td>\n",
              "    </tr>\n",
              "  </tbody>\n",
              "</table>\n",
              "</div>"
            ],
            "text/plain": [
              "         0         1         2   ...        19        20            21\n",
              "0 -0.574322 -0.975781 -1.221762  ... -0.208581  0.008140 -1.281683e-17\n",
              "1 -2.282102  0.279066 -1.200497  ...  0.152239 -0.196446  3.505657e-17\n",
              "2 -1.858036 -0.270972 -1.372371  ...  0.257582 -0.362577  1.555151e-17\n",
              "3 -0.884780 -0.756468 -1.342068  ... -0.169119  0.157344  1.440469e-17\n",
              "4  0.689613  1.239262 -3.113237  ...  0.167047  0.061573 -5.241867e-18\n",
              "\n",
              "[5 rows x 22 columns]"
            ]
          },
          "metadata": {
            "tags": []
          },
          "execution_count": 29
        }
      ]
    },
    {
      "cell_type": "code",
      "metadata": {
        "id": "7vm2sqJLwGFn",
        "colab_type": "code",
        "outputId": "185fd341-6166-47ef-ac80-cd026165ea93",
        "colab": {
          "base_uri": "https://localhost:8080/",
          "height": 232
        }
      },
      "source": [
        "explained_variance = pca.explained_variance_ratio_\n",
        "explained_variance.cumsum()"
      ],
      "execution_count": 0,
      "outputs": [
        {
          "output_type": "execute_result",
          "data": {
            "text/plain": [
              "(array([1.77396137e+02, 1.45421361e+02, 1.39646688e+02, 1.32666829e+02,\n",
              "        1.17616867e+02, 1.06448229e+02, 8.91673830e+01, 8.79351065e+01,\n",
              "        7.90885941e+01, 7.60363852e+01, 6.84944648e+01, 6.63822602e+01,\n",
              "        6.43407708e+01, 6.22608225e+01, 5.58840504e+01, 5.02802838e+01,\n",
              "        4.21436965e+01, 3.59963804e+01, 3.26856339e+01, 2.43843864e+01,\n",
              "        2.23719303e+01, 2.04006043e-15]),\n",
              " array([1.84458684e-01, 1.23955899e-01, 1.14306801e-01, 1.03165737e-01,\n",
              "        8.10867705e-02, 6.64182876e-02, 4.66039611e-02, 4.53247460e-02,\n",
              "        3.66638866e-02, 3.38886068e-02, 2.74993066e-02, 2.58294323e-02,\n",
              "        2.42651684e-02, 2.27216831e-02, 1.83057085e-02, 1.48185678e-02,\n",
              "        1.04106068e-02, 7.59501185e-03, 6.26216657e-03, 3.48525415e-03,\n",
              "        2.93371356e-03, 2.43947771e-35]))"
            ]
          },
          "metadata": {
            "tags": []
          },
          "execution_count": 43
        }
      ]
    },
    {
      "cell_type": "code",
      "metadata": {
        "id": "uYmv1NMswJ-l",
        "colab_type": "code",
        "outputId": "108adae2-79ac-4d68-e9fa-7c74395d56fc",
        "colab": {
          "base_uri": "https://localhost:8080/",
          "height": 571
        }
      },
      "source": [
        "# Plot the features with its variance\n",
        "plt.figure(figsize=(15, 12))\n",
        "\n",
        "plt.bar(range(22), explained_variance, alpha=0.5, align='center',\n",
        "        label='individual explained variance')\n",
        "plt.ylabel('Explained variance ratio')\n",
        "plt.xlabel('Principal components')\n",
        "plt.legend(loc='best')\n",
        "plt.tight_layout()"
      ],
      "execution_count": 0,
      "outputs": [
        {
          "output_type": "display_data",
          "data": {
            "image/png": "[encoded data removed]",
            "text/plain": [
              "<Figure size 1080x864 with 1 Axes>"
            ]
          },
          "metadata": {
            "tags": []
          }
        }
      ]
    },
    {
      "cell_type": "code",
      "metadata": {
        "id": "wRjVnVvLzFgh",
        "colab_type": "code",
        "outputId": "19dd3741-4351-45ba-a732-7075cac88493",
        "colab": {
          "base_uri": "https://localhost:8080/",
          "height": 571
        }
      },
      "source": [
        "# Plot the features with its variance\n",
        "plt.figure(figsize=(15, 12))\n",
        "\n",
        "plt.plot(range(22), explained_variance.cumsum())\n",
        "plt.ylabel('Variance CumSum')\n",
        "plt.xlabel('Principal components')\n",
        "plt.tight_layout()"
      ],
      "execution_count": 0,
      "outputs": [
        {
          "output_type": "display_data",
          "data": {
            "image/png": "[encoded data removed]",
            "text/plain": [
              "<Figure size 1080x864 with 1 Axes>"
            ]
          },
          "metadata": {
            "tags": []
          }
        }
      ]
    },
    {
      "cell_type": "code",
      "metadata": {
        "id": "E9zPLr2YcZbT",
        "colab_type": "code",
        "outputId": "2da0d37e-74ca-4180-ee6e-b95a51d747ef",
        "colab": {
          "base_uri": "https://localhost:8080/",
          "height": 34
        }
      },
      "source": [
        "REQUIRED_WHOLE_VARIANCE = 1\n",
        "\n",
        "number_of_required_features = np.where(explained_variance.cumsum() >= REQUIRED_WHOLE_VARIANCE)[0][0]\n",
        "\n",
        "print(f\"We need to get {number_of_required_features} features of PCA to get the {REQUIRED_WHOLE_VARIANCE*100}% of information.\")"
      ],
      "execution_count": 0,
      "outputs": [
        {
          "output_type": "stream",
          "text": [
            "We need to get 20 features of PCA to get the 100% of information.\n"
          ],
          "name": "stdout"
        }
      ]
    },
    {
      "cell_type": "markdown",
      "metadata": {
        "id": "HkOqV6uaa62R",
        "colab_type": "text"
      },
      "source": [
        "### Visualize PCA\n",
        "\n",
        "But first let's plot the most important features\n",
        "We are going to plot just the two features with thehighest features"
      ]
    },
    {
      "cell_type": "code",
      "metadata": {
        "id": "Bu8f6rE8wMUr",
        "colab_type": "code",
        "outputId": "9739bfb4-cbe6-4eaa-ff89-d2cfde2e7e34",
        "colab": {
          "base_uri": "https://localhost:8080/",
          "height": 322
        }
      },
      "source": [
        "N = X.values \n",
        "pca = PCA(n_components=2)\n",
        "x = pca.fit_transform(N) #\n",
        "\n",
        "plt.figure(figsize = (5,5))\n",
        "plt.scatter(x[:,0],x[:,1])\n",
        "plt.show()"
      ],
      "execution_count": 0,
      "outputs": [
        {
          "output_type": "display_data",
          "data": {
            "image/png": "[encoded data removed]",
            "text/plain": [
              "<Figure size 360x360 with 1 Axes>"
            ]
          },
          "metadata": {
            "tags": []
          }
        }
      ]
    },
    {
      "cell_type": "code",
      "metadata": {
        "id": "hHlPdRZSwVVY",
        "colab_type": "code",
        "outputId": "3752a0bf-9385-49de-a849-e1e6a999bf44",
        "colab": {
          "base_uri": "https://localhost:8080/",
          "height": 322
        }
      },
      "source": [
        "from sklearn.cluster import KMeans\n",
        "\n",
        "kmeans = KMeans(n_clusters=2, random_state=5)\n",
        "X_clustered = kmeans.fit_predict(N)\n",
        "\n",
        "LABEL_COLOR_MAP = { 0 : 'g', 1 : 'y' }\n",
        "\n",
        "label_color = [LABEL_COLOR_MAP[l] for l in X_clustered]\n",
        "plt.figure(figsize = (5,5))\n",
        "plt.scatter(x[:,0],x[:,1], c= label_color)\n",
        "plt.show()"
      ],
      "execution_count": 0,
      "outputs": [
        {
          "output_type": "display_data",
          "data": {
            "image/png": "[encoded data removed]",
            "text/plain": [
              "<Figure size 360x360 with 1 Axes>"
            ]
          },
          "metadata": {
            "tags": []
          }
        }
      ]
    },
    {
      "cell_type": "markdown",
      "metadata": {
        "id": "q2sHeztxdWOq",
        "colab_type": "text"
      },
      "source": [
        "### PCA Transform\n",
        "\n",
        "Finally we will apply te PCA tranformation to the data."
      ]
    },
    {
      "cell_type": "code",
      "metadata": {
        "id": "A7Myc-D7wXbV",
        "colab_type": "code",
        "colab": {}
      },
      "source": [
        "pca_modified = PCA(n_components=20)\n",
        "X_pca = pca_modified.fit_transform(X)"
      ],
      "execution_count": 0,
      "outputs": []
    },
    {
      "cell_type": "markdown",
      "metadata": {
        "id": "OkHL4lXb1hkP",
        "colab_type": "text"
      },
      "source": [
        "# Trainning\n",
        "\n",
        "\n",
        "Once we have normalize and preprocess all the information we start with the training process. At first we will split our whole dataset into train test split with a 0.2 of test data."
      ]
    },
    {
      "cell_type": "code",
      "metadata": {
        "id": "_SrRvNRYymWC",
        "colab_type": "code",
        "colab": {}
      },
      "source": [
        "from sklearn.model_selection import train_test_split\n",
        "\n",
        "# Split\n",
        "X_train, X_test, y_train, y_test = train_test_split(X_pca,y,test_size=0.2,random_state=4)"
      ],
      "execution_count": 0,
      "outputs": []
    },
    {
      "cell_type": "code",
      "metadata": {
        "id": "QVWDt4kGwjRI",
        "colab_type": "code",
        "colab": {}
      },
      "source": [
        "from sklearn.linear_model import LogisticRegression\n",
        "from sklearn.model_selection import cross_val_score\n",
        "from sklearn import metrics\n",
        "\n",
        "model_LR= LogisticRegression()"
      ],
      "execution_count": 0,
      "outputs": []
    },
    {
      "cell_type": "code",
      "metadata": {
        "id": "XhPNSjOSyi8m",
        "colab_type": "code",
        "outputId": "571791a9-fb5a-4b0b-ec13-d37b3448985b",
        "colab": {
          "base_uri": "https://localhost:8080/",
          "height": 270
        }
      },
      "source": [
        "model_LR.fit(X_train,y_train)"
      ],
      "execution_count": 0,
      "outputs": [
        {
          "output_type": "stream",
          "text": [
            "/usr/local/lib/python3.6/dist-packages/sklearn/linear_model/_logistic.py:940: ConvergenceWarning: lbfgs failed to converge (status=1):\n",
            "STOP: TOTAL NO. of ITERATIONS REACHED LIMIT.\n",
            "\n",
            "Increase the number of iterations (max_iter) or scale the data as shown in:\n",
            "    https://scikit-learn.org/stable/modules/preprocessing.html\n",
            "Please also refer to the documentation for alternative solver options:\n",
            "    https://scikit-learn.org/stable/modules/linear_model.html#logistic-regression\n",
            "  extra_warning_msg=_LOGISTIC_SOLVER_CONVERGENCE_MSG)\n"
          ],
          "name": "stderr"
        },
        {
          "output_type": "execute_result",
          "data": {
            "text/plain": [
              "LogisticRegression(C=1.0, class_weight=None, dual=False, fit_intercept=True,\n",
              "                   intercept_scaling=1, l1_ratio=None, max_iter=100,\n",
              "                   multi_class='auto', n_jobs=None, penalty='l2',\n",
              "                   random_state=None, solver='lbfgs', tol=0.0001, verbose=0,\n",
              "                   warm_start=False)"
            ]
          },
          "metadata": {
            "tags": []
          },
          "execution_count": 50
        }
      ]
    },
    {
      "cell_type": "code",
      "metadata": {
        "id": "OpLUCRwEyjTC",
        "colab_type": "code",
        "outputId": "1055e7b6-a252-45bd-b1dc-bcd449d57948",
        "colab": {
          "base_uri": "https://localhost:8080/",
          "height": 35
        }
      },
      "source": [
        "y_prob = model_LR.predict_proba(X_test)[:,1] # This will give you positive class prediction probabilities  \n",
        "y_pred = np.where(y_prob > 0.5, 1, 0) # This will threshold the probabilities to give class predictions.\n",
        "y_pred"
      ],
      "execution_count": 0,
      "outputs": [
        {
          "output_type": "execute_result",
          "data": {
            "text/plain": [
              "array([0, 1, 1, ..., 1, 1, 0])"
            ]
          },
          "metadata": {
            "tags": []
          },
          "execution_count": 51
        }
      ]
    },
    {
      "cell_type": "code",
      "metadata": {
        "id": "d5pRgWmwecpc",
        "colab_type": "code",
        "outputId": "647bbfc9-3a00-4ad8-d988-135afb5cea1f",
        "colab": {
          "base_uri": "https://localhost:8080/",
          "height": 35
        }
      },
      "source": [
        "print(f\"We have a {model_LR.score(X_test, y_pred)*100}% accuracy on test\")"
      ],
      "execution_count": 0,
      "outputs": [
        {
          "output_type": "stream",
          "text": [
            "We have a 100.0% accuracy on test\n"
          ],
          "name": "stdout"
        }
      ]
    },
    {
      "cell_type": "markdown",
      "metadata": {
        "id": "AYeBECT_es8o",
        "colab_type": "text"
      },
      "source": [
        "## Evaluation\n",
        "\n",
        "As we now the accuracy sometimes it is not a good representation of the performance and good generalization of our model. Let's study other metrics."
      ]
    },
    {
      "cell_type": "code",
      "metadata": {
        "id": "d420y3oTysKr",
        "colab_type": "code",
        "outputId": "132eaabe-5706-4d80-c4c0-9f6e8e8d5d25",
        "colab": {
          "base_uri": "https://localhost:8080/",
          "height": 34
        }
      },
      "source": [
        "# AUC Curve\n",
        "auc_roc = metrics.roc_auc_score(y_test,y_pred)\n",
        "auc_roc"
      ],
      "execution_count": 0,
      "outputs": [
        {
          "output_type": "execute_result",
          "data": {
            "text/plain": [
              "0.9674556213017752"
            ]
          },
          "metadata": {
            "tags": []
          },
          "execution_count": 105
        }
      ]
    },
    {
      "cell_type": "code",
      "metadata": {
        "id": "fG4kSvvyy7Ww",
        "colab_type": "code",
        "outputId": "7be74f61-9087-4d08-c2be-aca690638406",
        "colab": {
          "base_uri": "https://localhost:8080/",
          "height": 627
        }
      },
      "source": [
        "from sklearn.metrics import roc_curve, auc\n",
        "import matplotlib.pyplot as plt\n",
        "\n",
        "def plot_auc_roc(y_test, y_prob):\n",
        "    # Calculate\n",
        "    false_positive_rate, true_positive_rate, thresholds = roc_curve(y_test, y_prob)\n",
        "    roc_auc = auc(false_positive_rate, true_positive_rate)\n",
        "\n",
        "    # Plot \n",
        "    plt.figure(figsize=(10,10))\n",
        "    plt.title('Receiver Operating Characteristic')\n",
        "    plt.plot(false_positive_rate, true_positive_rate, color='red',label = 'AUC = %0.2f' % roc_auc)\n",
        "    plt.legend(loc = 'lower right')\n",
        "    plt.plot([0, 1], [0, 1],linestyle='--')\n",
        "    plt.axis('tight')\n",
        "    plt.ylabel('True Positive Rate')\n",
        "    plt.xlabel('False Positive Rate')\n",
        "\n",
        "plot_auc_roc(y_test, y_prob)"
      ],
      "execution_count": 0,
      "outputs": [
        {
          "output_type": "display_data",
          "data": {
            "image/png": "[encoded data removed]",
            "text/plain": [
              "<Figure size 720x720 with 1 Axes>"
            ]
          },
          "metadata": {
            "tags": []
          }
        }
      ]
    },
    {
      "cell_type": "markdown",
      "metadata": {
        "id": "nSR29_2DfAYO",
        "colab_type": "text"
      },
      "source": [
        "# Optimization \n",
        "\n",
        "As we can see the curve doesn't represent the best possible performance although we have achieve a 100% of accuracy. Let's optimize with a grid search over the different hyperparameters that the Logistic regression let us study."
      ]
    },
    {
      "cell_type": "code",
      "metadata": {
        "id": "ClwQVOrmy-Le",
        "colab_type": "code",
        "colab": {}
      },
      "source": [
        "from sklearn.linear_model import LogisticRegression\n",
        "from sklearn.model_selection import cross_val_score\n",
        "from sklearn import metrics\n",
        "\n",
        "LR_model= LogisticRegression()\n",
        "\n",
        "tuned_parameters = {\n",
        "    'C': [0.001, 0.01, 0.1, 1, 10, 100, 1000], \n",
        "}"
      ],
      "execution_count": 0,
      "outputs": []
    },
    {
      "cell_type": "code",
      "metadata": {
        "id": "wmjomchs3s3M",
        "colab_type": "code",
        "outputId": "31e2e820-83c3-470a-c5c4-63974d5c4214",
        "colab": {
          "base_uri": "https://localhost:8080/",
          "height": 34
        }
      },
      "source": [
        "X_train.shape"
      ],
      "execution_count": 0,
      "outputs": [
        {
          "output_type": "execute_result",
          "data": {
            "text/plain": [
              "(6499, 20)"
            ]
          },
          "metadata": {
            "tags": []
          },
          "execution_count": 114
        }
      ]
    },
    {
      "cell_type": "code",
      "metadata": {
        "id": "nfItADZwzDcD",
        "colab_type": "code",
        "outputId": "a50bf8bb-d7d5-4073-fe8b-4ce89abbefee",
        "colab": {
          "base_uri": "https://localhost:8080/",
          "height": 243
        }
      },
      "source": [
        "from sklearn.model_selection import GridSearchCV\n",
        "\n",
        "LR= GridSearchCV(LR_model, tuned_parameters, cv=10)\n",
        "\n",
        "LR.fit(X_train,y_train)"
      ],
      "execution_count": 0,
      "outputs": [
        {
          "output_type": "execute_result",
          "data": {
            "text/plain": [
              "GridSearchCV(cv=10, error_score=nan,\n",
              "             estimator=LogisticRegression(C=1.0, class_weight=None, dual=False,\n",
              "                                          fit_intercept=True,\n",
              "                                          intercept_scaling=1, l1_ratio=None,\n",
              "                                          max_iter=100, multi_class='auto',\n",
              "                                          n_jobs=None, penalty='l2',\n",
              "                                          random_state=None, solver='lbfgs',\n",
              "                                          tol=0.0001, verbose=0,\n",
              "                                          warm_start=False),\n",
              "             iid='deprecated', n_jobs=None,\n",
              "             param_grid={'C': [0.001, 0.01, 0.1, 1, 10, 100, 1000]},\n",
              "             pre_dispatch='2*n_jobs', refit=True, return_train_score=False,\n",
              "             scoring=None, verbose=0)"
            ]
          },
          "metadata": {
            "tags": []
          },
          "execution_count": 115
        }
      ]
    },
    {
      "cell_type": "code",
      "metadata": {
        "id": "4I5oZypszGVZ",
        "colab_type": "code",
        "outputId": "24b707db-bf64-4b38-c9b6-5347761ae8cb",
        "colab": {
          "base_uri": "https://localhost:8080/",
          "height": 34
        }
      },
      "source": [
        "print(LR.best_params_)"
      ],
      "execution_count": 0,
      "outputs": [
        {
          "output_type": "stream",
          "text": [
            "{'C': 100}\n"
          ],
          "name": "stdout"
        }
      ]
    },
    {
      "cell_type": "code",
      "metadata": {
        "id": "jUr8YR05zJ3D",
        "colab_type": "code",
        "outputId": "d5eb1e1f-f99e-42e9-d05a-ace4af6ae767",
        "colab": {
          "base_uri": "https://localhost:8080/",
          "height": 34
        }
      },
      "source": [
        "y_prob = LR.predict_proba(X_test)[:,1] # This will give you positive class prediction probabilities  \n",
        "y_pred = np.where(y_prob > 0.5, 1, 0) # This will threshold the probabilities to give class predictions.\n",
        "LR.score(X_test, y_pred)"
      ],
      "execution_count": 0,
      "outputs": [
        {
          "output_type": "execute_result",
          "data": {
            "text/plain": [
              "1.0"
            ]
          },
          "metadata": {
            "tags": []
          },
          "execution_count": 117
        }
      ]
    },
    {
      "cell_type": "code",
      "metadata": {
        "id": "J-an3ueuhobe",
        "colab_type": "code",
        "outputId": "9a4bba32-85f4-46d2-e8ed-4170ba1bd720",
        "colab": {
          "base_uri": "https://localhost:8080/",
          "height": 627
        }
      },
      "source": [
        "plot_auc_roc(y_test, y_prob)"
      ],
      "execution_count": 0,
      "outputs": [
        {
          "output_type": "display_data",
          "data": {
            "image/png": "[encoded data removed]",
            "text/plain": [
              "<Figure size 720x720 with 1 Axes>"
            ]
          },
          "metadata": {
            "tags": []
          }
        }
      ]
    },
    {
      "cell_type": "code",
      "metadata": {
        "id": "n63l7eCMzNrT",
        "colab_type": "code",
        "outputId": "074f5023-3ddc-475e-bac4-024a9e1f0717",
        "colab": {
          "base_uri": "https://localhost:8080/",
          "height": 285
        }
      },
      "source": [
        "# Metrics\n",
        "confusion_matrix = metrics.plot_confusion_matrix(LR, X_test, y_test, normalize='true')"
      ],
      "execution_count": 0,
      "outputs": [
        {
          "output_type": "display_data",
          "data": {
            "image/png": "[encoded data removed]",
            "text/plain": [
              "<Figure size 432x288 with 2 Axes>"
            ]
          },
          "metadata": {
            "tags": []
          }
        }
      ]
    },
    {
      "cell_type": "code",
      "metadata": {
        "id": "7httTXePzTwe",
        "colab_type": "code",
        "outputId": "1bb3389c-8419-45c3-bc30-b9b57ef5f1b5",
        "colab": {
          "base_uri": "https://localhost:8080/",
          "height": 173
        }
      },
      "source": [
        "auc_roc=metrics.classification_report(y_test, y_pred)\n",
        "print(auc_roc)"
      ],
      "execution_count": 0,
      "outputs": [
        {
          "output_type": "stream",
          "text": [
            "              precision    recall  f1-score   support\n",
            "\n",
            "           0       0.96      0.98      0.97       845\n",
            "           1       0.98      0.96      0.97       780\n",
            "\n",
            "    accuracy                           0.97      1625\n",
            "   macro avg       0.97      0.97      0.97      1625\n",
            "weighted avg       0.97      0.97      0.97      1625\n",
            "\n"
          ],
          "name": "stdout"
        }
      ]
    },
    {
      "cell_type": "code",
      "metadata": {
        "id": "45L5Cr01BABU",
        "colab_type": "code",
        "colab": {}
      },
      "source": [
        ""
      ],
      "execution_count": 0,
      "outputs": []
    }
  ]
}